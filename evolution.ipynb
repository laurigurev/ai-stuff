{
 "cells": [
  {
   "cell_type": "code",
   "execution_count": 1,
   "id": "de8700e9-d320-40ce-89c0-3339be505f24",
   "metadata": {},
   "outputs": [
    {
     "name": "stderr",
     "output_type": "stream",
     "text": [
      "2024-02-18 11:06:05.847338: I tensorflow/core/platform/cpu_feature_guard.cc:193] This TensorFlow binary is optimized with oneAPI Deep Neural Network Library (oneDNN) to use the following CPU instructions in performance-critical operations:  AVX2 FMA\n",
      "To enable them in other operations, rebuild TensorFlow with the appropriate compiler flags.\n",
      "2024-02-18 11:06:06.705663: W tensorflow/compiler/xla/stream_executor/platform/default/dso_loader.cc:64] Could not load dynamic library 'libnvinfer.so.7'; dlerror: libnvinfer.so.7: cannot open shared object file: No such file or directory; LD_LIBRARY_PATH: /usr/local/cuda-11.2/lib64\n",
      "2024-02-18 11:06:06.705782: W tensorflow/compiler/xla/stream_executor/platform/default/dso_loader.cc:64] Could not load dynamic library 'libnvinfer_plugin.so.7'; dlerror: libnvinfer_plugin.so.7: cannot open shared object file: No such file or directory; LD_LIBRARY_PATH: /usr/local/cuda-11.2/lib64\n",
      "2024-02-18 11:06:06.705791: W tensorflow/compiler/tf2tensorrt/utils/py_utils.cc:38] TF-TRT Warning: Cannot dlopen some TensorRT libraries. If you would like to use Nvidia GPU with TensorRT, please make sure the missing libraries mentioned above are installed properly.\n"
     ]
    }
   ],
   "source": [
    "import numpy as np\n",
    "import tensorflow as tf\n",
    "import matplotlib.pyplot as plt\n",
    "from functools import wraps\n",
    "import time"
   ]
  },
  {
   "cell_type": "code",
   "execution_count": 2,
   "id": "536fcc68-0a92-44de-8bc8-a9e16e25b5da",
   "metadata": {},
   "outputs": [],
   "source": [
    "with open('mnist-1d.npy', 'rb') as f:\n",
    "    x = np.load(f)\n",
    "    y = np.load(f)"
   ]
  },
  {
   "cell_type": "code",
   "execution_count": 3,
   "id": "62a7e6e1-c7b3-4519-896f-179f01fa8e0a",
   "metadata": {},
   "outputs": [],
   "source": [
    "def create_y(i):\n",
    "    a = np.zeros(10)\n",
    "    a[i] = 1.0\n",
    "    return a\n",
    "\n",
    "def create_datasets(x, y, split):\n",
    "    assert len(x) == len(y)\n",
    "    p = np.random.permutation(len(x))\n",
    "    x = x[p]\n",
    "    y = y[p]\n",
    "\n",
    "    split = int(len(x) * split)\n",
    "    x_train = x[:split]\n",
    "    y_train = y[:split]\n",
    "    x_test = x[split:]\n",
    "    y_test = y[split:]\n",
    "    \n",
    "    return x_train, y_train, x_test, y_test"
   ]
  },
  {
   "cell_type": "code",
   "execution_count": 4,
   "id": "033f8628-b612-4391-ad1a-8d738d7773a9",
   "metadata": {},
   "outputs": [],
   "source": [
    "x = x.astype(np.float64) / 255.0\n",
    "y = np.array([create_y(_y) for _y in y])"
   ]
  },
  {
   "cell_type": "code",
   "execution_count": 5,
   "id": "91581050-f025-4726-b4fd-60f1373d6ef4",
   "metadata": {},
   "outputs": [],
   "source": [
    "x_train, y_train, x_test, y_test = create_datasets(x, y, 0.7)"
   ]
  },
  {
   "cell_type": "code",
   "execution_count": 6,
   "id": "8b141bd9-504c-421a-abdc-f5cb91cd33df",
   "metadata": {},
   "outputs": [
    {
     "name": "stdout",
     "output_type": "stream",
     "text": [
      "Model: \"sequential\"\n",
      "_________________________________________________________________\n",
      " Layer (type)                Output Shape              Param #   \n",
      "=================================================================\n",
      " flatten (Flatten)           (None, 40)                0         \n",
      "                                                                 \n",
      " dense (Dense)               (None, 100)               4100      \n",
      "                                                                 \n",
      " dense_1 (Dense)             (None, 100)               10100     \n",
      "                                                                 \n",
      " dense_2 (Dense)             (None, 100)               10100     \n",
      "                                                                 \n",
      " dense_3 (Dense)             (None, 10)                1010      \n",
      "                                                                 \n",
      "=================================================================\n",
      "Total params: 25,310\n",
      "Trainable params: 25,310\n",
      "Non-trainable params: 0\n",
      "_________________________________________________________________\n"
     ]
    },
    {
     "name": "stderr",
     "output_type": "stream",
     "text": [
      "2024-02-18 11:06:34.238714: I tensorflow/compiler/xla/stream_executor/cuda/cuda_gpu_executor.cc:967] could not open file to read NUMA node: /sys/bus/pci/devices/0000:01:00.0/numa_node\n",
      "Your kernel may have been built without NUMA support.\n",
      "2024-02-18 11:06:34.254513: I tensorflow/compiler/xla/stream_executor/cuda/cuda_gpu_executor.cc:967] could not open file to read NUMA node: /sys/bus/pci/devices/0000:01:00.0/numa_node\n",
      "Your kernel may have been built without NUMA support.\n",
      "2024-02-18 11:06:34.254572: I tensorflow/compiler/xla/stream_executor/cuda/cuda_gpu_executor.cc:967] could not open file to read NUMA node: /sys/bus/pci/devices/0000:01:00.0/numa_node\n",
      "Your kernel may have been built without NUMA support.\n",
      "2024-02-18 11:06:34.255612: I tensorflow/core/platform/cpu_feature_guard.cc:193] This TensorFlow binary is optimized with oneAPI Deep Neural Network Library (oneDNN) to use the following CPU instructions in performance-critical operations:  AVX2 FMA\n",
      "To enable them in other operations, rebuild TensorFlow with the appropriate compiler flags.\n",
      "2024-02-18 11:06:34.257245: I tensorflow/compiler/xla/stream_executor/cuda/cuda_gpu_executor.cc:967] could not open file to read NUMA node: /sys/bus/pci/devices/0000:01:00.0/numa_node\n",
      "Your kernel may have been built without NUMA support.\n",
      "2024-02-18 11:06:34.257328: I tensorflow/compiler/xla/stream_executor/cuda/cuda_gpu_executor.cc:967] could not open file to read NUMA node: /sys/bus/pci/devices/0000:01:00.0/numa_node\n",
      "Your kernel may have been built without NUMA support.\n",
      "2024-02-18 11:06:34.257366: I tensorflow/compiler/xla/stream_executor/cuda/cuda_gpu_executor.cc:967] could not open file to read NUMA node: /sys/bus/pci/devices/0000:01:00.0/numa_node\n",
      "Your kernel may have been built without NUMA support.\n",
      "2024-02-18 11:06:35.565309: I tensorflow/compiler/xla/stream_executor/cuda/cuda_gpu_executor.cc:967] could not open file to read NUMA node: /sys/bus/pci/devices/0000:01:00.0/numa_node\n",
      "Your kernel may have been built without NUMA support.\n",
      "2024-02-18 11:06:35.565402: I tensorflow/compiler/xla/stream_executor/cuda/cuda_gpu_executor.cc:967] could not open file to read NUMA node: /sys/bus/pci/devices/0000:01:00.0/numa_node\n",
      "Your kernel may have been built without NUMA support.\n",
      "2024-02-18 11:06:35.565412: I tensorflow/core/common_runtime/gpu/gpu_device.cc:1700] Could not identify NUMA node of platform GPU id 0, defaulting to 0.  Your kernel may not have been built with NUMA support.\n",
      "2024-02-18 11:06:35.565453: I tensorflow/compiler/xla/stream_executor/cuda/cuda_gpu_executor.cc:967] could not open file to read NUMA node: /sys/bus/pci/devices/0000:01:00.0/numa_node\n",
      "Your kernel may have been built without NUMA support.\n",
      "2024-02-18 11:06:35.565559: I tensorflow/core/common_runtime/gpu/gpu_device.cc:1613] Created device /job:localhost/replica:0/task:0/device:GPU:0 with 4586 MB memory:  -> device: 0, name: NVIDIA GeForce GTX 1060, pci bus id: 0000:01:00.0, compute capability: 6.1\n"
     ]
    }
   ],
   "source": [
    "model = tf.keras.models.Sequential()\n",
    "model.add(tf.keras.Input(shape=(40, 1)))\n",
    "model.add(tf.keras.layers.Flatten())\n",
    "model.add(tf.keras.layers.Dense(100, activation='relu'))\n",
    "model.add(tf.keras.layers.Dense(100, activation='relu'))\n",
    "model.add(tf.keras.layers.Dense(100, activation='relu'))\n",
    "model.add(tf.keras.layers.Dense(10, activation='softmax'))\n",
    "model.summary()"
   ]
  },
  {
   "cell_type": "code",
   "execution_count": 7,
   "id": "74580aa9-bd49-42a1-b487-ebb6794e0652",
   "metadata": {},
   "outputs": [],
   "source": [
    "model.compile(optimizer='adam', loss='categorical_crossentropy', metrics=['accuracy'])"
   ]
  },
  {
   "cell_type": "code",
   "execution_count": 8,
   "id": "85d1b0ea-0b20-419c-b067-f188d4247f98",
   "metadata": {},
   "outputs": [
    {
     "name": "stdout",
     "output_type": "stream",
     "text": [
      "Epoch 1/10\n"
     ]
    },
    {
     "name": "stderr",
     "output_type": "stream",
     "text": [
      "2024-02-18 11:06:37.237124: I tensorflow/compiler/xla/service/service.cc:173] XLA service 0x1aed6130 initialized for platform CUDA (this does not guarantee that XLA will be used). Devices:\n",
      "2024-02-18 11:06:37.237171: I tensorflow/compiler/xla/service/service.cc:181]   StreamExecutor device (0): NVIDIA GeForce GTX 1060, Compute Capability 6.1\n",
      "2024-02-18 11:06:37.249396: I tensorflow/compiler/mlir/tensorflow/utils/dump_mlir_util.cc:268] disabling MLIR crash reproducer, set env var `MLIR_CRASH_REPRODUCER_DIRECTORY` to enable.\n",
      "2024-02-18 11:06:37.441790: I tensorflow/compiler/jit/xla_compilation_cache.cc:477] Compiled cluster using XLA!  This line is logged at most once for the lifetime of the process.\n"
     ]
    },
    {
     "name": "stdout",
     "output_type": "stream",
     "text": [
      "110/110 [==============================] - 3s 8ms/step - loss: 2.2836 - accuracy: 0.1306 - val_loss: 2.2400 - val_accuracy: 0.1510\n",
      "Epoch 2/10\n",
      "110/110 [==============================] - 1s 6ms/step - loss: 2.1850 - accuracy: 0.1824 - val_loss: 2.1692 - val_accuracy: 0.1723\n",
      "Epoch 3/10\n",
      "110/110 [==============================] - 1s 6ms/step - loss: 2.1247 - accuracy: 0.2093 - val_loss: 2.1616 - val_accuracy: 0.2017\n",
      "Epoch 4/10\n",
      "110/110 [==============================] - 1s 7ms/step - loss: 2.1035 - accuracy: 0.2217 - val_loss: 2.0778 - val_accuracy: 0.2377\n",
      "Epoch 5/10\n",
      "110/110 [==============================] - 1s 6ms/step - loss: 2.0672 - accuracy: 0.2443 - val_loss: 2.0528 - val_accuracy: 0.2507\n",
      "Epoch 6/10\n",
      "110/110 [==============================] - 1s 6ms/step - loss: 2.0215 - accuracy: 0.2686 - val_loss: 2.0021 - val_accuracy: 0.2723\n",
      "Epoch 7/10\n",
      "110/110 [==============================] - 1s 6ms/step - loss: 1.9528 - accuracy: 0.2963 - val_loss: 1.9718 - val_accuracy: 0.2920\n",
      "Epoch 8/10\n",
      "110/110 [==============================] - 1s 6ms/step - loss: 1.8819 - accuracy: 0.3230 - val_loss: 1.8497 - val_accuracy: 0.3280\n",
      "Epoch 9/10\n",
      "110/110 [==============================] - 1s 7ms/step - loss: 1.7710 - accuracy: 0.3573 - val_loss: 1.7620 - val_accuracy: 0.3603\n",
      "Epoch 10/10\n",
      "110/110 [==============================] - 1s 6ms/step - loss: 1.6723 - accuracy: 0.3940 - val_loss: 1.6930 - val_accuracy: 0.3637\n"
     ]
    }
   ],
   "source": [
    "h = model.fit(x_train, y_train, batch_size=64, epochs=10, validation_data=(x_test, y_test))"
   ]
  },
  {
   "cell_type": "code",
   "execution_count": 9,
   "id": "5a0d79f4-a87c-47a8-9613-f3cbaca018cc",
   "metadata": {},
   "outputs": [
    {
     "data": {
      "text/plain": [
       "<matplotlib.legend.Legend at 0x7ff48ea7bee0>"
      ]
     },
     "execution_count": 9,
     "metadata": {},
     "output_type": "execute_result"
    },
    {
     "data": {
      "image/png": "[encoded data removed]",
      "text/plain": [
       "<Figure size 640x480 with 1 Axes>"
      ]
     },
     "metadata": {},
     "output_type": "display_data"
    }
   ],
   "source": [
    "plt.plot(h.history['accuracy'], label='accuracy')\n",
    "plt.plot(h.history['val_accuracy'], label = 'validation accuracy')\n",
    "plt.xlabel('Epoch')\n",
    "plt.ylabel('Accuracy')\n",
    "plt.ylim([0.0, 1])\n",
    "plt.legend(loc='lower right')"
   ]
  },
  {
   "cell_type": "code",
   "execution_count": 10,
   "id": "eb54c9f0-c7af-43f1-aa74-766069952d8c",
   "metadata": {},
   "outputs": [],
   "source": [
    "# genes -> random string\n",
    "# max len 32\n",
    "# first layer is 40 dim vector\n",
    "# each letter signify random generator seed\n",
    "# vector of equal size is generated with gaussian distribution and summed to active layer\n",
    "# if char is 'l' then new active layer with dim of next char is created\n",
    "# last layer is 10 dim vector\n",
    "# between last and second to last layers W matrix with only ones is generated\n",
    "# last layer gets softmax treatment"
   ]
  },
  {
   "cell_type": "code",
   "execution_count": 11,
   "id": "d7458ead-126b-4fae-af32-eb955042f43a",
   "metadata": {},
   "outputs": [],
   "source": [
    "# https://dev.to/kcdchennai/python-decorator-to-measure-execution-time-54hk\n",
    "def timeit(func):\n",
    "    @wraps(func)\n",
    "    def timeit_wrapper(*args, **kwargs):\n",
    "        start_time = time.perf_counter()\n",
    "        result = func(*args, **kwargs)\n",
    "        end_time = time.perf_counter()\n",
    "        total_time = end_time - start_time\n",
    "        print(f'Function {func.__name__}(...) Took {total_time:.4f} seconds')\n",
    "        return result\n",
    "    return timeit_wrapper"
   ]
  },
  {
   "cell_type": "code",
   "execution_count": 12,
   "id": "18db18ca-7d29-4190-b3a7-862572eba639",
   "metadata": {},
   "outputs": [],
   "source": [
    "def create_model(g, in_shape=40, out_shape=10):\n",
    "    model = []\n",
    "    \n",
    "    model.append(np.zeros((ord(g[0]), in_shape)))\n",
    "    \n",
    "    b_new_layer = False\n",
    "    for c in g[1:]:\n",
    "        if (c == 'l'):\n",
    "            b_new_layer = True\n",
    "        elif b_new_layer:\n",
    "            b_new_layer = False\n",
    "            model.append(np.zeros((ord(c), model[-1].shape[0])))\n",
    "        else:\n",
    "            rng = np.random.default_rng(ord(c))\n",
    "            model[-1] += rng.normal(size=np.shape(model[-1]))\n",
    "\n",
    "    model.append(np.zeros((out_shape, model[-1].shape[0])))\n",
    "    rng = np.random.default_rng(ord(g[-1]))\n",
    "    model[-1] += rng.normal(size=np.shape(model[-1]))\n",
    "    return model\n",
    "\n",
    "MUTATE = np.random.default_rng(42)\n",
    "def mutate(g, max):\n",
    "    if (MUTATE.random() < 0.5):\n",
    "        i = MUTATE.integers(len(g))\n",
    "        c = chr(MUTATE.integers(32, 127))\n",
    "        g = g[:i] + c + g[i + 1:]\n",
    "    else:\n",
    "        n = MUTATE.integers(len(g))\n",
    "        g = g[:n] + chr(MUTATE.integers(32, 127)) + g[n:]\n",
    "    \n",
    "    if len(g) > max:\n",
    "        return g[:max]\n",
    "    return g\n",
    "\n",
    "def cross(p0, p1):\n",
    "    half0 = int(len(p0) / 2)\n",
    "    half1 = int(len(p1) / 2)\n",
    "    c0 = p0[:half0] + p1[half1:]\n",
    "    c1 = p1[:half1] + p0[half0:]\n",
    "    return c0, c1\n",
    "\n",
    "def cross_entropy(predictions, targets, epsilon=1e-12):\n",
    "    \"\"\"\n",
    "    Computes cross entropy between targets (encoded as one-hot vectors)\n",
    "    and predictions. \n",
    "    Input: predictions (N, k) ndarray\n",
    "           targets (N, k) ndarray        \n",
    "    Returns: scalar\n",
    "    \"\"\"\n",
    "    predictions = np.clip(predictions, epsilon, 1. - epsilon)\n",
    "    N = predictions.shape[0]\n",
    "    ce = -np.sum(targets*np.log(predictions+1e-9))/N\n",
    "    return ce\n",
    "\n",
    "def relu(x):\n",
    "    return x * (x > 0)\n",
    "\n",
    "def softmax(x):\n",
    "    return np.exp(x)/sum(np.exp(x))"
   ]
  },
  {
   "cell_type": "code",
   "execution_count": 13,
   "id": "138acbea-9c65-4fe9-80d1-799b029d69cb",
   "metadata": {},
   "outputs": [],
   "source": [
    "@timeit\n",
    "def evolve(x, y, epochs, population_size=100, fit=0.1, mutations=0.05, min_genes=8, max_genes=64, debug_print=10, seed=42):\n",
    "    assert len(x) == len(y)\n",
    "\n",
    "    fit_size = int(population_size * fit)\n",
    "    \n",
    "    avg_loss = np.zeros(epochs)\n",
    "    max_loss = np.zeros(epochs)\n",
    "    min_loss = np.zeros(epochs)\n",
    "    \n",
    "    rng = np.random.default_rng(seed)\n",
    "    pop = np.array([''.join([chr(rng.integers(32, 127)) for _ in range(min_genes)]) for __ in range(population_size)])\n",
    "\n",
    "    debug_counter = 0\n",
    "    \n",
    "    for e in range(epochs):\n",
    "        losses = np.zeros(len(pop))\n",
    "        for i in range(len(pop)):\n",
    "            p = pop[i]\n",
    "            m = create_model(p)\n",
    "\n",
    "            loss = 0\n",
    "            for j in range(len(x)):\n",
    "                v = x[j]\n",
    "                for _m in m:\n",
    "                    v = softmax(np.matmul(_m, v))\n",
    "                loss += cross_entropy(v, y[j])\n",
    "            losses[i] = loss / len(x)\n",
    "\n",
    "        # sort by loss\n",
    "        tmp = np.argsort(losses)\n",
    "        pop[np.flip(tmp)]\n",
    "        \n",
    "        # clear below fit\n",
    "        pop0 = pop[:fit_size]\n",
    "        \n",
    "        # repopulate with cross\n",
    "        pairs = [rng.integers(0, high=fit_size, size=2) for _ in range(population_size - fit_size)]\n",
    "        pop1 = []\n",
    "        for p in pairs:\n",
    "            c0, c1 = cross(pop0[p[0]], pop0[p[1]])\n",
    "            pop1.append(c0)\n",
    "            pop1.append(c1)\n",
    "\n",
    "        pop1 = np.array(pop1)\n",
    "        rng.permuted(pop1, out=pop1)\n",
    "        pop[:fit_size] = pop0\n",
    "        pop[fit_size:] = pop1[population_size - fit_size]\n",
    "        \n",
    "        # mutate with rate\n",
    "        for _ in range(int(population_size * mutations)):\n",
    "            i = rng.integers(0, high=population_size)\n",
    "            pop[i] = mutate(pop[i], max_genes)\n",
    "\n",
    "        # update stats\n",
    "        avg_loss[e] = losses.mean()\n",
    "        max_loss[e] = losses.max()\n",
    "        min_loss[e] = losses.min()\n",
    "\n",
    "        if (debug_print < 0):\n",
    "            continue\n",
    "\n",
    "        if (debug_counter == debug_print):\n",
    "            debug_counter = 0\n",
    "            print('epoch ' + str(e) + ', avg loss: ' + str(losses.mean()) + ', max loss: ' + str(losses.max()) + ', min loss:' + str(losses.min()))\n",
    "        debug_counter += 1\n",
    "    \n",
    "    return avg_loss, max_loss, min_loss"
   ]
  },
  {
   "cell_type": "code",
   "execution_count": 14,
   "id": "4b6d79cb-e337-440a-8dfa-0e96682cc67a",
   "metadata": {},
   "outputs": [],
   "source": [
    "# avg, max, min = evolve(x[:20], y[:20], 100, population_size=100)"
   ]
  },
  {
   "cell_type": "code",
   "execution_count": 15,
   "id": "984de502-242a-417d-be6b-13858bcc146a",
   "metadata": {},
   "outputs": [],
   "source": [
    "def cross_entropy1(predictions, targets, epsilon=1e-12):\n",
    "    \"\"\"\n",
    "    Computes cross entropy between targets (encoded as one-hot vectors)\n",
    "    and predictions. \n",
    "    Input: predictions (N, k) ndarray\n",
    "           targets (N, k) ndarray        \n",
    "    Returns: scalar\n",
    "    \"\"\"\n",
    "    predictions = np.clip(predictions, epsilon, 1. - epsilon)\n",
    "    n = predictions.shape[1]\n",
    "    N = np.full((predictions.shape[0]), n)\n",
    "    ce = -np.sum(targets*np.log(predictions+1e-9), axis=1)/N\n",
    "    return ce\n",
    "\n",
    "@timeit\n",
    "def evolve1(x, y, epochs, population_size=100, fit=0.1, mutations=0.05, min_genes=8, max_genes=64, debug_print=10, seed=42):\n",
    "    assert len(x) == len(y)\n",
    "\n",
    "    fit_size = int(population_size * fit)\n",
    "    \n",
    "    avg_loss = np.zeros(epochs)\n",
    "    max_loss = np.zeros(epochs)\n",
    "    min_loss = np.zeros(epochs)\n",
    "    \n",
    "    rng = np.random.default_rng(seed)\n",
    "    pop = np.array([''.join([chr(rng.integers(32, 127)) for _ in range(min_genes)]) for __ in range(population_size)])\n",
    "\n",
    "    debug_counter = 0\n",
    "\n",
    "    __x = x.transpose().copy()\n",
    "    \n",
    "    for e in range(epochs):\n",
    "        losses = np.zeros(len(pop))\n",
    "        for i in range(len(pop)):\n",
    "            p = pop[i]\n",
    "            m = create_model(p)\n",
    "\n",
    "            v = __x.copy()\n",
    "            for _m in m:\n",
    "                v = softmax(np.matmul(_m, v))\n",
    "            v = v.transpose()\n",
    "            losses[i] = cross_entropy1(v, y).mean()\n",
    "\n",
    "        # sort by loss\n",
    "        tmp = np.argsort(losses)\n",
    "        pop[np.flip(tmp)]\n",
    "        \n",
    "        # clear below fit\n",
    "        pop0 = pop[:fit_size]\n",
    "        \n",
    "        # repopulate with cross\n",
    "        pairs = [rng.integers(0, high=fit_size, size=2) for _ in range(population_size - fit_size)]\n",
    "        pop1 = []\n",
    "        for p in pairs:\n",
    "            c0, c1 = cross(pop0[p[0]], pop0[p[1]])\n",
    "            pop1.append(c0)\n",
    "            pop1.append(c1)\n",
    "\n",
    "        pop1 = np.array(pop1)\n",
    "        rng.permuted(pop1, out=pop1)\n",
    "        pop[:fit_size] = pop0\n",
    "        pop[fit_size:] = pop1[population_size - fit_size]\n",
    "        \n",
    "        # mutate with rate\n",
    "        for _ in range(int(population_size * mutations)):\n",
    "            i = rng.integers(0, high=population_size)\n",
    "            pop[i] = mutate(pop[i], max_genes)\n",
    "\n",
    "        # update stats\n",
    "        avg_loss[e] = losses.mean()\n",
    "        max_loss[e] = losses.max()\n",
    "        min_loss[e] = losses.min()\n",
    "\n",
    "        if (debug_print < 0):\n",
    "            continue\n",
    "\n",
    "        if (debug_counter == debug_print):\n",
    "            debug_counter = 0\n",
    "            print('epoch ' + str(e) + ', avg loss: ' + str(losses.mean()) + ', max loss: ' + str(losses.max()) + ', min loss:' + str(losses.min()))\n",
    "        debug_counter += 1\n",
    "    \n",
    "    return avg_loss, max_loss, min_loss"
   ]
  },
  {
   "cell_type": "code",
   "execution_count": 16,
   "id": "7994df01-01fd-4b8e-8400-69fa7902777b",
   "metadata": {},
   "outputs": [],
   "source": [
    "# avg, max, min = evolve1(x[:40], y[:40], 100, population_size=100)"
   ]
  },
  {
   "cell_type": "code",
   "execution_count": 17,
   "id": "105190a6-f2e8-4660-b2f3-f1888cd2cefc",
   "metadata": {},
   "outputs": [],
   "source": [
    "def cross_entropy2(predictions, targets, N, epsilon=1e-12):\n",
    "    predictions = tf.clip_by_value(predictions, epsilon, 1. - epsilon)\n",
    "    # n = predictions.shape[1]\n",
    "    # N = np.full((predictions.shape[0]), n)\n",
    "    ce = -tf.experimental.numpy.sum(targets*tf.math.log(predictions+1e-9), axis=1)/N\n",
    "    return ce.numpy()\n",
    "\n",
    "@timeit\n",
    "def evolve2(x, y, epochs, population_size=100, fit=0.1, mutations=0.05, min_genes=8, max_genes=64, debug_print=10, seed=42):\n",
    "    assert len(x) == len(y)\n",
    "\n",
    "    fit_size = int(population_size * fit)\n",
    "    \n",
    "    avg_loss = np.zeros(epochs)\n",
    "    max_loss = np.zeros(epochs)\n",
    "    min_loss = np.zeros(epochs)\n",
    "    \n",
    "    rng = np.random.default_rng(seed)\n",
    "    pop = np.array([''.join([chr(rng.integers(32, 127)) for _ in range(min_genes)]) for __ in range(population_size)])\n",
    "\n",
    "    debug_counter = 0\n",
    "\n",
    "    __x = tf.constant(x.transpose().copy())\n",
    "    __y = tf.constant(y)\n",
    "    \n",
    "    n = y.shape[1]\n",
    "    __N = tf.constant(np.full((y.shape[0]), n, dtype=np.float64))\n",
    "    \n",
    "    for e in range(epochs):\n",
    "        losses = np.zeros(len(pop))\n",
    "        for i in range(len(pop)):\n",
    "            p = pop[i]\n",
    "            m = create_model(p)\n",
    "            tf_m = [tf.constant(_m) for _m in m]\n",
    "            \n",
    "            v = __x\n",
    "            for _m in m:\n",
    "                v = tf.nn.softmax(tf.linalg.matmul(_m, v))\n",
    "            v = tf.transpose(v)\n",
    "            losses[i] = cross_entropy2(v, y, __N).mean()\n",
    "\n",
    "        # sort by loss\n",
    "        tmp = np.argsort(losses)\n",
    "        # pop[np.flip(tmp)]\n",
    "        pop[tmp]\n",
    "        \n",
    "        # clear below fit\n",
    "        pop0 = pop[:fit_size]\n",
    "        \n",
    "        # repopulate with cross\n",
    "        pairs = [rng.integers(0, high=fit_size, size=2) for _ in range(population_size - fit_size)]\n",
    "        pop1 = []\n",
    "        for p in pairs:\n",
    "            c0, c1 = cross(pop0[p[0]], pop0[p[1]])\n",
    "            pop1.append(c0)\n",
    "            pop1.append(c1)\n",
    "\n",
    "        pop1 = np.array(pop1)\n",
    "        rng.permuted(pop1, out=pop1)\n",
    "        pop[:fit_size] = pop0\n",
    "        pop[fit_size:] = pop1[population_size - fit_size]\n",
    "        \n",
    "        # mutate with rate\n",
    "        for _ in range(int(population_size * mutations)):\n",
    "            i = rng.integers(0, high=population_size)\n",
    "            pop[i] = mutate(pop[i], max_genes)\n",
    "\n",
    "        # update stats\n",
    "        avg_loss[e] = losses.mean()\n",
    "        max_loss[e] = losses.max()\n",
    "        min_loss[e] = losses.min()\n",
    "\n",
    "        if (debug_print < 0):\n",
    "            continue\n",
    "\n",
    "        if (debug_counter == debug_print):\n",
    "            debug_counter = 0\n",
    "            print('epoch ' + str(e) + ', avg loss: ' + str(losses.mean()) + ', max loss: ' + str(losses.max()) + ', min loss:' + str(losses.min()))\n",
    "        debug_counter += 1\n",
    "    \n",
    "    return avg_loss, max_loss, min_loss"
   ]
  },
  {
   "cell_type": "code",
   "execution_count": 18,
   "id": "57831eab-520e-498a-9ead-14899177d268",
   "metadata": {},
   "outputs": [],
   "source": [
    "# lavg, lmax, lmin = evolve2(x, y, 100, population_size=200)"
   ]
  },
  {
   "cell_type": "code",
   "execution_count": 19,
   "id": "e41866a7-aa47-4032-b0b8-1943182f8b81",
   "metadata": {},
   "outputs": [
    {
     "data": {
      "text/plain": [
       "\"\\nfig, ax = plt.subplots()\\nfig.suptitle('Evolution loss')\\nax.plot(lavg, label='avg loss')\\nax.plot(lmax, label = 'max loss')\\nax.plot(lmin, label = 'min loss')\\nax.set_xlabel('Epoch')\\nax.set_ylabel('Loss')\\nax.set_ylim([0.0, 1])\\nax.legend(loc='lower right')\\nplt.show()\\n\""
      ]
     },
     "execution_count": 19,
     "metadata": {},
     "output_type": "execute_result"
    }
   ],
   "source": [
    "\"\"\"\n",
    "fig, ax = plt.subplots()\n",
    "fig.suptitle('Evolution loss')\n",
    "ax.plot(lavg, label='avg loss')\n",
    "ax.plot(lmax, label = 'max loss')\n",
    "ax.plot(lmin, label = 'min loss')\n",
    "ax.set_xlabel('Epoch')\n",
    "ax.set_ylabel('Loss')\n",
    "ax.set_ylim([0.0, 1])\n",
    "ax.legend(loc='lower right')\n",
    "plt.show()\n",
    "\"\"\""
   ]
  },
  {
   "cell_type": "code",
   "execution_count": 20,
   "id": "79218b80-434f-41ca-ac33-431e77620c34",
   "metadata": {},
   "outputs": [],
   "source": [
    "# todo: tensorflow profiler\n",
    "# todo: evolve2 profiling\n",
    "# todo: tensorflow threading/pooling"
   ]
  },
  {
   "cell_type": "code",
   "execution_count": 21,
   "id": "7d41a4ad-b44f-4dc5-8e6f-9f7b404052fb",
   "metadata": {},
   "outputs": [],
   "source": [
    "# https://chromium.googlesource.com/external/github.com/tensorflow/tensorflow/+/r0.10/tensorflow/g3doc/get_started/index.md"
   ]
  },
  {
   "cell_type": "code",
   "execution_count": 22,
   "id": "87fddaec-d6b6-440c-937a-004dfa7bda40",
   "metadata": {},
   "outputs": [
    {
     "name": "stdout",
     "output_type": "stream",
     "text": [
      "(2, 3, 3)\n",
      "(2, 3)\n"
     ]
    }
   ],
   "source": [
    "a = np.array([[1, 2, 0], [3, 4, 0], [0, 0, 0]])\n",
    "b = np.array([[1, 2, 3], [4, 5, 6], [0, 0, 0]])\n",
    "c = np.array([a, b])\n",
    "d = np.array([[1, 2, 0], [1, 2, 3]])\n",
    "# [[5, 11, 0], [14, 32, 0]]\n",
    "# (2, 3, 3) * (2, 3) = (2, 3)\n",
    "print(np.shape(c))\n",
    "print(np.shape(d))"
   ]
  },
  {
   "cell_type": "code",
   "execution_count": 23,
   "id": "398c39a1-6f46-4db0-9066-8bc6551c9a1d",
   "metadata": {},
   "outputs": [
    {
     "data": {
      "text/plain": [
       "array([[ 5, 11,  0],\n",
       "       [14, 32,  0]])"
      ]
     },
     "execution_count": 23,
     "metadata": {},
     "output_type": "execute_result"
    }
   ],
   "source": [
    "np.einsum('...kj,...j', c, d)"
   ]
  },
  {
   "cell_type": "code",
   "execution_count": 72,
   "id": "f2853273-22e4-4d4f-9cbc-9df2a583c50f",
   "metadata": {},
   "outputs": [],
   "source": [
    "x_tmp = x[:10]"
   ]
  },
  {
   "cell_type": "code",
   "execution_count": 73,
   "id": "3177f71b-0945-45cb-ac4a-96a9408e3d71",
   "metadata": {},
   "outputs": [],
   "source": [
    "m0, m1 = create_model('omena'), create_model('appelsiini')"
   ]
  },
  {
   "cell_type": "code",
   "execution_count": 104,
   "id": "d2e6fe24-b936-4b6e-9fb9-55417f8885b1",
   "metadata": {},
   "outputs": [],
   "source": [
    "rows1 = max(m0[0].shape[0], m1[0].shape[0])\n",
    "cols1 = max(m0[0].shape[1], m1[0].shape[1])\n",
    "rows2 = max(m0[1].shape[0], m1[1].shape[0])\n",
    "cols2 = max(m0[1].shape[1], m1[1].shape[1])"
   ]
  },
  {
   "cell_type": "code",
   "execution_count": 105,
   "id": "58d036e6-29ea-4e35-8471-2e4f8343902c",
   "metadata": {},
   "outputs": [
    {
     "name": "stdout",
     "output_type": "stream",
     "text": [
      "(111, 40)\n",
      "(97, 40)\n"
     ]
    }
   ],
   "source": [
    "print(m0[0].shape)\n",
    "print(m1[0].shape)"
   ]
  },
  {
   "cell_type": "code",
   "execution_count": 106,
   "id": "9c053036-65ec-42d4-88b8-99d9b6782273",
   "metadata": {},
   "outputs": [
    {
     "name": "stdout",
     "output_type": "stream",
     "text": [
      "(2, 111, 40)\n",
      "(2, 115, 111)\n"
     ]
    }
   ],
   "source": [
    "layer1 = np.array([\n",
    "    np.pad(m0[0], ((0, rows1-m0[0].shape[0]), (0, cols1-m0[0].shape[1])), constant_values=0),\n",
    "    np.pad(m1[0], ((0, rows1-m1[0].shape[0]), (0, cols1-m1[0].shape[1])), constant_values=0)])\n",
    "layer2 = np.array([\n",
    "    np.pad(m0[1], ((0, rows2-m0[1].shape[0]), (0, cols2-m0[1].shape[1])), constant_values=0),\n",
    "    np.pad(m1[1], ((0, rows2-m1[1].shape[0]), (0, cols2-m1[1].shape[1])), constant_values=0)])\n",
    "print(layer1.shape)\n",
    "print(layer2.shape)"
   ]
  },
  {
   "cell_type": "code",
   "execution_count": 264,
   "id": "abe6951d-61a3-4368-8a11-5f2fdf92a0e5",
   "metadata": {},
   "outputs": [
    {
     "name": "stdout",
     "output_type": "stream",
     "text": [
      "(2, 40, 10)\n"
     ]
    },
    {
     "ename": "ValueError",
     "evalue": "operands could not be broadcast together with remapped shapes [original->remapped]: (2,111,40)->(40,111,2,newaxis) (2,40,10)->(2,newaxis,10,40) ",
     "output_type": "error",
     "traceback": [
      "\u001b[0;31m---------------------------------------------------------------------------\u001b[0m",
      "\u001b[0;31mValueError\u001b[0m                                Traceback (most recent call last)",
      "Cell \u001b[0;32mIn[264], line 6\u001b[0m\n\u001b[1;32m      3\u001b[0m \u001b[38;5;28mprint\u001b[39m(v_tmp\u001b[38;5;241m.\u001b[39mshape)\n\u001b[1;32m      4\u001b[0m \u001b[38;5;66;03m### v_tmp = np.einsum('...kj,...ji', layer1, v_tmp) # (2, 10, 111)\u001b[39;00m\n\u001b[1;32m      5\u001b[0m \u001b[38;5;66;03m### v_tmp = np.einsum('...ki,...ij', layer1, v_tmp) # (2, 10, 111)\u001b[39;00m\n\u001b[0;32m----> 6\u001b[0m v_tmp \u001b[38;5;241m=\u001b[39m \u001b[43mnp\u001b[49m\u001b[38;5;241;43m.\u001b[39;49m\u001b[43meinsum\u001b[49m\u001b[43m(\u001b[49m\u001b[38;5;124;43m'\u001b[39;49m\u001b[38;5;124;43mkj...,...ik->...jk\u001b[39;49m\u001b[38;5;124;43m'\u001b[39;49m\u001b[43m,\u001b[49m\u001b[43m \u001b[49m\u001b[43mlayer1\u001b[49m\u001b[43m,\u001b[49m\u001b[43m \u001b[49m\u001b[43mv_tmp\u001b[49m\u001b[43m)\u001b[49m\n\u001b[1;32m      7\u001b[0m \u001b[38;5;28mprint\u001b[39m(v_tmp\u001b[38;5;241m.\u001b[39mshape) \u001b[38;5;66;03m# (2, 111, 10)\u001b[39;00m\n",
      "File \u001b[0;32m~/miniconda3/envs/dl_course_2024/lib/python3.10/site-packages/numpy/core/einsumfunc.py:1371\u001b[0m, in \u001b[0;36meinsum\u001b[0;34m(out, optimize, *operands, **kwargs)\u001b[0m\n\u001b[1;32m   1369\u001b[0m     \u001b[38;5;28;01mif\u001b[39;00m specified_out:\n\u001b[1;32m   1370\u001b[0m         kwargs[\u001b[38;5;124m'\u001b[39m\u001b[38;5;124mout\u001b[39m\u001b[38;5;124m'\u001b[39m] \u001b[38;5;241m=\u001b[39m out\n\u001b[0;32m-> 1371\u001b[0m     \u001b[38;5;28;01mreturn\u001b[39;00m \u001b[43mc_einsum\u001b[49m\u001b[43m(\u001b[49m\u001b[38;5;241;43m*\u001b[39;49m\u001b[43moperands\u001b[49m\u001b[43m,\u001b[49m\u001b[43m \u001b[49m\u001b[38;5;241;43m*\u001b[39;49m\u001b[38;5;241;43m*\u001b[39;49m\u001b[43mkwargs\u001b[49m\u001b[43m)\u001b[49m\n\u001b[1;32m   1373\u001b[0m \u001b[38;5;66;03m# Check the kwargs to avoid a more cryptic error later, without having to\u001b[39;00m\n\u001b[1;32m   1374\u001b[0m \u001b[38;5;66;03m# repeat default values here\u001b[39;00m\n\u001b[1;32m   1375\u001b[0m valid_einsum_kwargs \u001b[38;5;241m=\u001b[39m [\u001b[38;5;124m'\u001b[39m\u001b[38;5;124mdtype\u001b[39m\u001b[38;5;124m'\u001b[39m, \u001b[38;5;124m'\u001b[39m\u001b[38;5;124morder\u001b[39m\u001b[38;5;124m'\u001b[39m, \u001b[38;5;124m'\u001b[39m\u001b[38;5;124mcasting\u001b[39m\u001b[38;5;124m'\u001b[39m]\n",
      "\u001b[0;31mValueError\u001b[0m: operands could not be broadcast together with remapped shapes [original->remapped]: (2,111,40)->(40,111,2,newaxis) (2,40,10)->(2,newaxis,10,40) "
     ]
    }
   ],
   "source": [
    "v_tmp = x[:10].T\n",
    "v_tmp = np.array([v_tmp, v_tmp])\n",
    "print(v_tmp.shape)\n",
    "### v_tmp = np.einsum('...kj,...ji', layer1, v_tmp) # (2, 10, 111)\n",
    "### v_tmp = np.einsum('...ki,...ij', layer1, v_tmp) # (2, 10, 111)\n",
    "v_tmp = np.einsum('kj...,...ik->...jk', layer1, v_tmp)\n",
    "print(v_tmp.shape) # (2, 111, 10)"
   ]
  },
  {
   "cell_type": "code",
   "execution_count": 86,
   "id": "12d36358-175c-46d5-a5d7-35995595bbd8",
   "metadata": {},
   "outputs": [
    {
     "data": {
      "text/plain": [
       "(111, 10)"
      ]
     },
     "execution_count": 86,
     "metadata": {},
     "output_type": "execute_result"
    }
   ],
   "source": [
    "np.matmul(m0[0], x[:10].T).shape"
   ]
  },
  {
   "cell_type": "code",
   "execution_count": null,
   "id": "30a0fc1d-4563-4114-b022-2d274b130f46",
   "metadata": {},
   "outputs": [],
   "source": []
  }
 ],
 "metadata": {
  "kernelspec": {
   "display_name": "Python 3 (ipykernel)",
   "language": "python",
   "name": "python3"
  },
  "language_info": {
   "codemirror_mode": {
    "name": "ipython",
    "version": 3
   },
   "file_extension": ".py",
   "mimetype": "text/x-python",
   "name": "python",
   "nbconvert_exporter": "python",
   "pygments_lexer": "ipython3",
   "version": "3.10.13"
  }
 },
 "nbformat": 4,
 "nbformat_minor": 5
}
