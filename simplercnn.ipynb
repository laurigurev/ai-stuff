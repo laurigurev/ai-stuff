{
 "cells": [
  {
   "cell_type": "code",
   "execution_count": 1,
   "id": "affected-deployment",
   "metadata": {},
   "outputs": [],
   "source": [
    "import warnings\n",
    "warnings.filterwarnings('ignore')"
   ]
  },
  {
   "cell_type": "code",
   "execution_count": 2,
   "id": "liable-chuck",
   "metadata": {},
   "outputs": [],
   "source": [
    "from torch import nn\n",
    "import torch\n",
    "import mylib\n",
    "import matplotlib.pyplot as plt\n",
    "import pickle\n",
    "import pandas as pd"
   ]
  },
  {
   "cell_type": "code",
   "execution_count": 3,
   "id": "renewable-sender",
   "metadata": {},
   "outputs": [],
   "source": [
    "device = torch.device('cuda' if torch.cuda.is_available() else 'cpu')"
   ]
  },
  {
   "cell_type": "code",
   "execution_count": 4,
   "id": "linear-instrumentation",
   "metadata": {},
   "outputs": [
    {
     "name": "stdout",
     "output_type": "stream",
     "text": [
      "iter 9: stuff\n"
     ]
    }
   ],
   "source": [
    "mylib.myprint(\"stuff\")"
   ]
  },
  {
   "cell_type": "code",
   "execution_count": 5,
   "id": "bibliographic-legend",
   "metadata": {},
   "outputs": [],
   "source": [
    "path = 'mnist/train.csv'\n",
    "X, y = mylib.get_mnist_kaggle_in_2d_format(path, device, height=28, width=28, batch=42000)"
   ]
  },
  {
   "cell_type": "code",
   "execution_count": 6,
   "id": "missing-valve",
   "metadata": {},
   "outputs": [],
   "source": [
    "X = torch.reshape(X, (42000,1,28,28))"
   ]
  },
  {
   "cell_type": "code",
   "execution_count": 7,
   "id": "noticed-alert",
   "metadata": {},
   "outputs": [
    {
     "data": {
      "text/plain": [
       "torch.Size([37000, 1, 28, 28])"
      ]
     },
     "execution_count": 7,
     "metadata": {},
     "output_type": "execute_result"
    }
   ],
   "source": [
    "# y = y[:1000]\n",
    "# X = X[:1000]\n",
    "X_test = X[:5000]\n",
    "y_test = y[:5000]\n",
    "X = X[5000:].to(device)\n",
    "y = y[5000:].to(device)\n",
    "X.shape"
   ]
  },
  {
   "cell_type": "code",
   "execution_count": 8,
   "id": "understood-energy",
   "metadata": {},
   "outputs": [],
   "source": [
    "class SimpleCNN(nn.Module):\n",
    "    def __init__(self):\n",
    "        super(SimpleCNN, self).__init__()\n",
    "        print('-- init SimpleCNN --')\n",
    "        \n",
    "        self.sig = nn.Sigmoid()\n",
    "        \n",
    "        # input -> 28x28x1\n",
    "        self.conv1 = nn.Conv2d(in_channels=1, out_channels=32, kernel_size=5)\n",
    "        # output -> 24x24x64\n",
    "        self.pool1 = nn.MaxPool2d(kernel_size=9, stride=3)\n",
    "        \n",
    "        self.conv2 = nn.Conv2d(in_channels=32, out_channels=128, kernel_size=3, padding=1, stride=2)\n",
    "        \n",
    "        self.fc1 = nn.Linear(in_features=3*3*128, out_features=10)\n",
    "        \n",
    "    def forward(self, X):\n",
    "        out = self.sig(X)\n",
    "        \n",
    "        out = self.conv1(out)\n",
    "        out = self.pool1(out)\n",
    "        \n",
    "        out = self.conv2(out)\n",
    "        \n",
    "        # print(out.shape)\n",
    "        out = torch.reshape(out, (out.shape[0], 3*3*128))\n",
    "\n",
    "        out = self.fc1(out)\n",
    "        \n",
    "        return out"
   ]
  },
  {
   "cell_type": "code",
   "execution_count": 9,
   "id": "genetic-roommate",
   "metadata": {},
   "outputs": [],
   "source": [
    "losses = []\n",
    "accuracy = []"
   ]
  },
  {
   "cell_type": "code",
   "execution_count": 10,
   "id": "numerous-singles",
   "metadata": {},
   "outputs": [
    {
     "name": "stdout",
     "output_type": "stream",
     "text": [
      "-- init SimpleCNN --\n"
     ]
    }
   ],
   "source": [
    "model = SimpleCNN().to(device)\n",
    "loss_function = torch.nn.MSELoss().to(device)\n",
    "optimizer = torch.optim.Adam(model.parameters())\n",
    "\n",
    "batch_size = 20"
   ]
  },
  {
   "cell_type": "code",
   "execution_count": 11,
   "id": "faced-planning",
   "metadata": {},
   "outputs": [
    {
     "name": "stdout",
     "output_type": "stream",
     "text": [
      " 0 |     0 | 0.118\n",
      " 0 |  1000 | 0.021\n",
      " 1 |     0 | 0.020\n",
      " 1 |  1000 | 0.017\n",
      " 2 |     0 | 0.017\n",
      " 2 |  1000 | 0.016\n",
      " 3 |     0 | 0.016\n",
      " 3 |  1000 | 0.016\n",
      " 4 |     0 | 0.016\n",
      " 4 |  1000 | 0.015\n",
      " 5 |     0 | 0.015\n",
      " 5 |  1000 | 0.015\n",
      " 6 |     0 | 0.015\n",
      " 6 |  1000 | 0.014\n",
      " 7 |     0 | 0.015\n",
      " 7 |  1000 | 0.014\n",
      " 8 |     0 | 0.016\n",
      " 8 |  1000 | 0.014\n",
      " 9 |     0 | 0.015\n",
      " 9 |  1000 | 0.014\n"
     ]
    }
   ],
   "source": [
    "for epoch in range(10):\n",
    "    running_loss = 0\n",
    "    for i in range(int(y.shape[0]/batch_size)):\n",
    "        optimizer.zero_grad()\n",
    "        pred = model(X[batch_size*i:batch_size*i+batch_size])\n",
    "        loss = loss_function(pred, y[batch_size*i:batch_size*i+batch_size])\n",
    "\n",
    "        loss.backward()\n",
    "        optimizer.step()\n",
    "        \n",
    "        running_loss += loss.item()\n",
    "        if(i % 100 == 0):\n",
    "            losses.append((running_loss/9999))\n",
    "            accuracy.append(mylib.mnist_score(model,X[:100],y[:100],dataset_size=100))\n",
    "            running_loss = 0.0\n",
    "            \n",
    "        if(i % 1000 == 0):\n",
    "            print(f'{epoch:2d} | {i:5d} | {loss.item():.3f}')"
   ]
  },
  {
   "cell_type": "code",
   "execution_count": 12,
   "id": "accurate-kennedy",
   "metadata": {},
   "outputs": [
    {
     "name": "stdout",
     "output_type": "stream",
     "text": [
      "TRAIN:  98.17567567567568\n"
     ]
    }
   ],
   "source": [
    "print('TRAIN: ', mylib.mnist_score(model, X[:37000], y[:37000], dataset_size=37000))"
   ]
  },
  {
   "cell_type": "code",
   "execution_count": 13,
   "id": "abandoned-engineering",
   "metadata": {},
   "outputs": [
    {
     "name": "stdout",
     "output_type": "stream",
     "text": [
      "TEST:  98.1\n"
     ]
    }
   ],
   "source": [
    "print('TEST: ', mylib.mnist_score(model, X_test, y_test, dataset_size=5000))"
   ]
  },
  {
   "cell_type": "code",
   "execution_count": 14,
   "id": "defined-vatican",
   "metadata": {},
   "outputs": [
    {
     "data": {
      "image/png": "[encoded data removed]",
      "text/plain": [
       "<Figure size 1440x1080 with 2 Axes>"
      ]
     },
     "metadata": {
      "needs_background": "light"
     },
     "output_type": "display_data"
    }
   ],
   "source": [
    "%matplotlib inline\n",
    "\n",
    "fig, (ax1, ax2) = plt.subplots(2, 1, figsize=(20,15))\n",
    "\n",
    "fig.suptitle('Model Statistics')\n",
    "\n",
    "ax1.plot(accuracy)\n",
    "ax1.set_ylabel('accuracy')\n",
    "\n",
    "ax2.plot(losses)\n",
    "ax2.set_ylabel('loss')\n",
    "\n",
    "plt.show()"
   ]
  },
  {
   "cell_type": "code",
   "execution_count": 15,
   "id": "bronze-privilege",
   "metadata": {},
   "outputs": [],
   "source": [
    "torch.save(model.state_dict(), 'simplercnn.model')"
   ]
  },
  {
   "cell_type": "code",
   "execution_count": 43,
   "id": "ranking-release",
   "metadata": {},
   "outputs": [
    {
     "name": "stdout",
     "output_type": "stream",
     "text": [
      "-- init SimpleCNN --\n"
     ]
    },
    {
     "data": {
      "text/plain": [
       "SimpleCNN(\n",
       "  (sig): Sigmoid()\n",
       "  (conv1): Conv2d(1, 32, kernel_size=(4, 4), stride=(1, 1))\n",
       "  (pool1): MaxPool2d(kernel_size=3, stride=2, padding=0, dilation=1, ceil_mode=False)\n",
       "  (conv2): Conv2d(32, 64, kernel_size=(2, 2), stride=(1, 1), padding=(1, 1))\n",
       "  (pool2): MaxPool2d(kernel_size=2, stride=2, padding=0, dilation=1, ceil_mode=False)\n",
       "  (conv3): Conv2d(64, 128, kernel_size=(2, 2), stride=(1, 1), padding=(1, 1))\n",
       "  (pool3): MaxPool2d(kernel_size=3, stride=2, padding=0, dilation=1, ceil_mode=False)\n",
       "  (fc1): Linear(in_features=1152, out_features=10, bias=True)\n",
       "  (fc2): Linear(in_features=10, out_features=10, bias=True)\n",
       ")"
      ]
     },
     "execution_count": 43,
     "metadata": {},
     "output_type": "execute_result"
    }
   ],
   "source": [
    "model = SimpleCNN()\n",
    "model.load_state_dict(torch.load('simplercnn.model'))\n",
    "model = model.to(device)\n",
    "model.eval()"
   ]
  },
  {
   "cell_type": "code",
   "execution_count": 16,
   "id": "timely-multiple",
   "metadata": {},
   "outputs": [],
   "source": [
    "path_to_test = 'mnist/test.csv'\n",
    "path_to_sample = 'mnist/sample_submission.csv'\n",
    "mylib.make_mnist_kaggle_submission(model, path_to_test, path_to_sample, device, 'auto_submission.csv')"
   ]
  },
  {
   "cell_type": "code",
   "execution_count": null,
   "id": "assured-sport",
   "metadata": {},
   "outputs": [],
   "source": []
  }
 ],
 "metadata": {
  "kernelspec": {
   "display_name": "Python 3",
   "language": "python",
   "name": "python3"
  },
  "language_info": {
   "codemirror_mode": {
    "name": "ipython",
    "version": 3
   },
   "file_extension": ".py",
   "mimetype": "text/x-python",
   "name": "python",
   "nbconvert_exporter": "python",
   "pygments_lexer": "ipython3",
   "version": "3.8.8"
  }
 },
 "nbformat": 4,
 "nbformat_minor": 5
}
