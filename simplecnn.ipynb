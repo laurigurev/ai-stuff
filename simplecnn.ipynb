{
 "cells": [
  {
   "cell_type": "code",
   "execution_count": 1,
   "id": "conservative-gibraltar",
   "metadata": {},
   "outputs": [],
   "source": [
    "import warnings\n",
    "warnings.filterwarnings('ignore')"
   ]
  },
  {
   "cell_type": "code",
   "execution_count": 3,
   "id": "appointed-cambridge",
   "metadata": {},
   "outputs": [],
   "source": [
    "from torch import nn\n",
    "import torch\n",
    "import mylib\n",
    "import matplotlib.pyplot as plt\n",
    "import pickle\n",
    "import pandas as pd"
   ]
  },
  {
   "cell_type": "code",
   "execution_count": 4,
   "id": "sufficient-samoa",
   "metadata": {},
   "outputs": [],
   "source": [
    "device = torch.device('cuda' if torch.cuda.is_available() else 'cpu')"
   ]
  },
  {
   "cell_type": "code",
   "execution_count": 5,
   "id": "patent-shade",
   "metadata": {},
   "outputs": [
    {
     "name": "stdout",
     "output_type": "stream",
     "text": [
      "iter 7: stuff\n"
     ]
    }
   ],
   "source": [
    "mylib.myprint(\"stuff\")"
   ]
  },
  {
   "cell_type": "code",
   "execution_count": 6,
   "id": "twenty-album",
   "metadata": {},
   "outputs": [],
   "source": [
    "# import sys  \n",
    "# sys.path.insert(0, 'C:/Users/Lauri/condaThings/neural_networks_by_nielsen/pytorch/mylib.py')\n",
    "# import mylib"
   ]
  },
  {
   "cell_type": "code",
   "execution_count": 7,
   "id": "certain-cannon",
   "metadata": {},
   "outputs": [],
   "source": [
    "path = 'C:/Users/Lauri/condaThings/neural_networks_by_nielsen/data/kaggle/digit-recognizer/train.csv'\n",
    "X, y = mylib.get_mnist_kaggle_in_2d_format(path, device, height=28, width=28, batch=42000)"
   ]
  },
  {
   "cell_type": "code",
   "execution_count": 8,
   "id": "measured-writer",
   "metadata": {},
   "outputs": [],
   "source": [
    "X = torch.reshape(X, (42000,1,28,28))"
   ]
  },
  {
   "cell_type": "code",
   "execution_count": 9,
   "id": "green-triangle",
   "metadata": {},
   "outputs": [
    {
     "data": {
      "text/plain": [
       "torch.Size([42000, 1, 28, 28])"
      ]
     },
     "execution_count": 9,
     "metadata": {},
     "output_type": "execute_result"
    }
   ],
   "source": [
    "# y = y[:1000]\n",
    "# X = X[:1000]\n",
    "X.shape"
   ]
  },
  {
   "cell_type": "code",
   "execution_count": 46,
   "id": "breeding-learning",
   "metadata": {},
   "outputs": [],
   "source": [
    "class SimpleCNN(nn.Module):\n",
    "    def __init__(self):\n",
    "        super(SimpleCNN, self).__init__()\n",
    "        print('-- init SimpleCNN --')\n",
    "        \n",
    "        # input -> 28x28x1\n",
    "        self.conv1 = nn.Conv2d(in_channels=1, out_channels=6, kernel_size=4)\n",
    "        # output -> 25x25x6\n",
    "        self.pool1 = nn.MaxPool2d(kernel_size=3, stride=2)\n",
    "        # output -> 12x12x6\n",
    "        self.conv2 = nn.Conv2d(in_channels=6, out_channels=12, kernel_size=2, padding=1)\n",
    "        # output -> 12x12x12\n",
    "        self.pool2 = nn.MaxPool2d(kernel_size=2, stride=2)\n",
    "        # output -> 6x6x12\n",
    "        self.fc1 = nn.Linear(in_features=6*6*12, out_features=100)\n",
    "        self.relu = nn.ReLU()\n",
    "        self.fc2 = nn.Linear(in_features=100, out_features=10)\n",
    "        \n",
    "    def forward(self, X):\n",
    "        # out = torch.sigmoid(X)\n",
    "        out = self.conv1(X)\n",
    "        out = self.pool1(out)\n",
    "        out = self.conv2(out)\n",
    "        out = self.pool2(out)\n",
    "        # print(out.shape)\n",
    "        out = torch.reshape(out, (out.shape[0], 6*6*12))\n",
    "        # print(out)\n",
    "        out = self.fc1(out)\n",
    "        out = self.fc2(out)\n",
    "        # out = self.relu(out)\n",
    "        # print(out)\n",
    "        return out"
   ]
  },
  {
   "cell_type": "code",
   "execution_count": 54,
   "id": "stable-symposium",
   "metadata": {},
   "outputs": [],
   "source": [
    "losses = []\n",
    "accuracy = []"
   ]
  },
  {
   "cell_type": "code",
   "execution_count": 55,
   "id": "fewer-joseph",
   "metadata": {},
   "outputs": [
    {
     "name": "stdout",
     "output_type": "stream",
     "text": [
      "-- init SimpleCNN --\n"
     ]
    }
   ],
   "source": [
    "model = SimpleCNN().to(device)\n",
    "loss_function = torch.nn.MSELoss().to(device)\n",
    "optimizer = torch.optim.SGD(model.parameters(), lr=1e-4, momentum=0.3) # score of 28.4\n",
    "# optimizer = torch.optim.Adadelta(model.parameters())                 # score of 50.6\n",
    "\n",
    "batch_size = 10"
   ]
  },
  {
   "cell_type": "code",
   "execution_count": 56,
   "id": "primary-northeast",
   "metadata": {},
   "outputs": [
    {
     "name": "stdout",
     "output_type": "stream",
     "text": [
      " 0 |     0 | 236.768\n",
      " 0 |   500 | 0.775\n",
      " 0 |  1000 | 0.322\n",
      " 0 |  1500 | 0.272\n",
      " 0 |  2000 | 0.236\n",
      " 0 |  2500 | 0.162\n",
      " 0 |  3000 | 0.192\n",
      " 0 |  3500 | 0.159\n",
      " 0 |  4000 | 0.139\n",
      " 1 |     0 | 0.137\n",
      " 1 |   500 | 0.148\n",
      " 1 |  1000 | 0.109\n",
      " 1 |  1500 | 0.107\n",
      " 1 |  2000 | 0.098\n",
      " 1 |  2500 | 0.077\n",
      " 1 |  3000 | 0.110\n",
      " 1 |  3500 | 0.107\n",
      " 1 |  4000 | 0.096\n",
      " 2 |     0 | 0.077\n",
      " 2 |   500 | 0.095\n",
      " 2 |  1000 | 0.088\n",
      " 2 |  1500 | 0.082\n",
      " 2 |  2000 | 0.070\n",
      " 2 |  2500 | 0.060\n",
      " 2 |  3000 | 0.083\n",
      " 2 |  3500 | 0.087\n",
      " 2 |  4000 | 0.079\n",
      " 3 |     0 | 0.058\n",
      " 3 |   500 | 0.075\n",
      " 3 |  1000 | 0.076\n",
      " 3 |  1500 | 0.071\n",
      " 3 |  2000 | 0.059\n",
      " 3 |  2500 | 0.051\n",
      " 3 |  3000 | 0.070\n",
      " 3 |  3500 | 0.075\n",
      " 3 |  4000 | 0.070\n",
      " 4 |     0 | 0.049\n",
      " 4 |   500 | 0.063\n",
      " 4 |  1000 | 0.068\n",
      " 4 |  1500 | 0.065\n",
      " 4 |  2000 | 0.052\n",
      " 4 |  2500 | 0.046\n",
      " 4 |  3000 | 0.063\n",
      " 4 |  3500 | 0.068\n",
      " 4 |  4000 | 0.065\n",
      " 5 |     0 | 0.044\n",
      " 5 |   500 | 0.056\n",
      " 5 |  1000 | 0.062\n",
      " 5 |  1500 | 0.062\n",
      " 5 |  2000 | 0.047\n",
      " 5 |  2500 | 0.043\n",
      " 5 |  3000 | 0.058\n",
      " 5 |  3500 | 0.062\n",
      " 5 |  4000 | 0.061\n",
      " 6 |     0 | 0.041\n",
      " 6 |   500 | 0.051\n",
      " 6 |  1000 | 0.058\n",
      " 6 |  1500 | 0.059\n",
      " 6 |  2000 | 0.044\n",
      " 6 |  2500 | 0.040\n",
      " 6 |  3000 | 0.055\n",
      " 6 |  3500 | 0.058\n",
      " 6 |  4000 | 0.058\n",
      " 7 |     0 | 0.038\n",
      " 7 |   500 | 0.047\n",
      " 7 |  1000 | 0.054\n",
      " 7 |  1500 | 0.057\n",
      " 7 |  2000 | 0.041\n",
      " 7 |  2500 | 0.038\n",
      " 7 |  3000 | 0.052\n",
      " 7 |  3500 | 0.056\n",
      " 7 |  4000 | 0.056\n",
      " 8 |     0 | 0.037\n",
      " 8 |   500 | 0.044\n",
      " 8 |  1000 | 0.052\n",
      " 8 |  1500 | 0.055\n",
      " 8 |  2000 | 0.039\n",
      " 8 |  2500 | 0.036\n",
      " 8 |  3000 | 0.049\n",
      " 8 |  3500 | 0.053\n",
      " 8 |  4000 | 0.055\n",
      " 9 |     0 | 0.035\n",
      " 9 |   500 | 0.042\n",
      " 9 |  1000 | 0.050\n",
      " 9 |  1500 | 0.053\n",
      " 9 |  2000 | 0.038\n",
      " 9 |  2500 | 0.034\n",
      " 9 |  3000 | 0.048\n",
      " 9 |  3500 | 0.052\n",
      " 9 |  4000 | 0.054\n"
     ]
    }
   ],
   "source": [
    "for epoch in range(10):\n",
    "    running_loss = 0.0\n",
    "    for i in range(int(y.shape[0]/batch_size)):\n",
    "        optimizer.zero_grad()\n",
    "        pred = model(X[batch_size*i:batch_size*i+batch_size])\n",
    "        loss = loss_function(pred, y[batch_size*i:batch_size*i+batch_size])\n",
    "\n",
    "        loss.backward()\n",
    "        optimizer.step()\n",
    "        \n",
    "        running_loss += loss.item()\n",
    "        if(i % 100 == 0):\n",
    "            losses.append(running_loss/9999)\n",
    "            accuracy.append(mylib.mnist_score(model,X[:100],y[:100],dataset_size=100))\n",
    "            running_loss = 0.0\n",
    "            \n",
    "        if(i % 500 == 0):\n",
    "            print(f'{epoch:2d} | {i:5d} | {loss.item():.3f}')"
   ]
  },
  {
   "cell_type": "code",
   "execution_count": 57,
   "id": "thorough-credits",
   "metadata": {},
   "outputs": [
    {
     "name": "stdout",
     "output_type": "stream",
     "text": [
      "TRAIN:  86.5\n"
     ]
    }
   ],
   "source": [
    "print('TRAIN: ', mylib.mnist_score(model, X, y, dataset_size=42000))"
   ]
  },
  {
   "cell_type": "code",
   "execution_count": 58,
   "id": "fiscal-montana",
   "metadata": {},
   "outputs": [
    {
     "data": {
      "image/png": "[encoded data removed]",
      "text/plain": [
       "<Figure size 1440x1080 with 2 Axes>"
      ]
     },
     "metadata": {
      "needs_background": "light"
     },
     "output_type": "display_data"
    }
   ],
   "source": [
    "%matplotlib inline\n",
    "\n",
    "fig, (ax1, ax2) = plt.subplots(2, 1, figsize=(20,15))\n",
    "\n",
    "fig.suptitle('Model Statistics')\n",
    "\n",
    "ax1.plot(accuracy)\n",
    "ax1.set_ylabel('accuracy')\n",
    "\n",
    "ax2.plot(losses)\n",
    "ax2.set_ylabel('loss')\n",
    "\n",
    "plt.show()"
   ]
  },
  {
   "cell_type": "code",
   "execution_count": 21,
   "id": "surgical-worry",
   "metadata": {},
   "outputs": [],
   "source": [
    "torch.save(model.state_dict(), 'simplecnn.model')"
   ]
  },
  {
   "cell_type": "code",
   "execution_count": 7,
   "id": "fatal-student",
   "metadata": {},
   "outputs": [
    {
     "name": "stdout",
     "output_type": "stream",
     "text": [
      "-- init SimpleCNN --\n"
     ]
    },
    {
     "data": {
      "text/plain": [
       "SimpleCNN(\n",
       "  (conv1): Conv2d(1, 6, kernel_size=(4, 4), stride=(1, 1))\n",
       "  (pool1): MaxPool2d(kernel_size=3, stride=2, padding=0, dilation=1, ceil_mode=False)\n",
       "  (conv2): Conv2d(6, 12, kernel_size=(2, 2), stride=(1, 1), padding=(1, 1))\n",
       "  (pool2): MaxPool2d(kernel_size=2, stride=2, padding=0, dilation=1, ceil_mode=False)\n",
       "  (fc1): Linear(in_features=432, out_features=100, bias=True)\n",
       "  (relu): ReLU()\n",
       "  (fc2): Linear(in_features=100, out_features=10, bias=True)\n",
       ")"
      ]
     },
     "execution_count": 7,
     "metadata": {},
     "output_type": "execute_result"
    }
   ],
   "source": [
    "model = SimpleCNN()\n",
    "model.load_state_dict(torch.load('simplecnn.model'))\n",
    "model = model.to(device)\n",
    "model.eval()"
   ]
  },
  {
   "cell_type": "code",
   "execution_count": 8,
   "id": "foreign-folks",
   "metadata": {},
   "outputs": [],
   "source": [
    "path_to_test = 'C:/Users/Lauri/condaThings/neural_networks_by_nielsen/data/kaggle/digit-recognizer/test.csv'\n",
    "mylib.make_mnist_kaggle_submission(model, path_to_test, device, 'auto_submission.csv')"
   ]
  },
  {
   "cell_type": "code",
   "execution_count": null,
   "id": "balanced-allen",
   "metadata": {},
   "outputs": [],
   "source": []
  }
 ],
 "metadata": {
  "kernelspec": {
   "display_name": "Python 3",
   "language": "python",
   "name": "python3"
  },
  "language_info": {
   "codemirror_mode": {
    "name": "ipython",
    "version": 3
   },
   "file_extension": ".py",
   "mimetype": "text/x-python",
   "name": "python",
   "nbconvert_exporter": "python",
   "pygments_lexer": "ipython3",
   "version": "3.8.8"
  }
 },
 "nbformat": 4,
 "nbformat_minor": 5
}
