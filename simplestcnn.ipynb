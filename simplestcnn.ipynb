{
 "cells": [
  {
   "cell_type": "code",
   "execution_count": 1,
   "id": "durable-principle",
   "metadata": {},
   "outputs": [],
   "source": [
    "import warnings\n",
    "warnings.filterwarnings('ignore')"
   ]
  },
  {
   "cell_type": "code",
   "execution_count": 2,
   "id": "hungry-plumbing",
   "metadata": {},
   "outputs": [],
   "source": [
    "from torch import nn\n",
    "import torch\n",
    "import mylib\n",
    "import matplotlib.pyplot as plt\n",
    "import pickle\n",
    "import pandas as pd"
   ]
  },
  {
   "cell_type": "code",
   "execution_count": 3,
   "id": "liked-poetry",
   "metadata": {},
   "outputs": [],
   "source": [
    "device = torch.device('cuda' if torch.cuda.is_available() else 'cpu')"
   ]
  },
  {
   "cell_type": "code",
   "execution_count": 4,
   "id": "employed-runner",
   "metadata": {},
   "outputs": [
    {
     "name": "stdout",
     "output_type": "stream",
     "text": [
      "iter 12: stuff\n"
     ]
    }
   ],
   "source": [
    "mylib.myprint(\"stuff\")"
   ]
  },
  {
   "cell_type": "code",
   "execution_count": 5,
   "id": "resistant-evening",
   "metadata": {},
   "outputs": [],
   "source": [
    "path = 'mnist/train.csv'\n",
    "X, y = mylib.get_mnist_kaggle_in_2d_format(path, device, height=28, width=28, batch=42000)"
   ]
  },
  {
   "cell_type": "code",
   "execution_count": 6,
   "id": "determined-coverage",
   "metadata": {},
   "outputs": [],
   "source": [
    "X = torch.reshape(X, (42000,1,28,28))"
   ]
  },
  {
   "cell_type": "code",
   "execution_count": 7,
   "id": "sufficient-moscow",
   "metadata": {},
   "outputs": [
    {
     "data": {
      "text/plain": [
       "torch.Size([37000, 1, 28, 28])"
      ]
     },
     "execution_count": 7,
     "metadata": {},
     "output_type": "execute_result"
    }
   ],
   "source": [
    "# y = y[:1000]\n",
    "# X = X[:1000]\n",
    "X_test = X[:5000]\n",
    "y_test = y[:5000]\n",
    "X = X[5000:].to(device)\n",
    "y = y[5000:].to(device)\n",
    "X.shape"
   ]
  },
  {
   "cell_type": "code",
   "execution_count": 48,
   "id": "transsexual-filing",
   "metadata": {},
   "outputs": [],
   "source": [
    "class SimplestCNN(nn.Module):\n",
    "    def __init__(self):\n",
    "        super(SimplestCNN, self).__init__()\n",
    "        print('-- init SimplestCNN --')\n",
    "        \n",
    "        self.sig = nn.Sigmoid()\n",
    "        \n",
    "        # input -> 28x28x1\n",
    "        self.conv1 = nn.Conv2d(in_channels=1, out_channels=64, kernel_size=4, stride=2, padding=1)\n",
    "        # output -> 14x14x64\n",
    "        self.pool1 = nn.MaxPool2d(kernel_size=4, stride=2)\n",
    "        # output-> 6x6x64\n",
    "        self.conv2 = nn.Conv2d(in_channels=64, out_channels=128, kernel_size=3, stride=1, padding=1)\n",
    "        # output -> 6x6x128\n",
    "        self.pool2 = nn.MaxPool2d(kernel_size=2, stride=2)\n",
    "        # output -> 3x3x128\n",
    "        self.conv3 = nn.Conv2d(in_channels=128, out_channels=256, kernel_size=3, stride=1, padding=1)\n",
    "        # output -> 3x3x256\n",
    "        self.conv4 = nn.Conv2d(in_channels=256, out_channels=512, kernel_size=3, stride=1, padding=1)\n",
    "        # output -> 3x3x512\n",
    "        \n",
    "        self.fc1 = nn.Linear(in_features=3*3*512, out_features=100)\n",
    "        self.fc2 = nn.Linear(in_features=100, out_features=100)\n",
    "        self.fc3 = nn.Linear(in_features=100, out_features=10)\n",
    "        \n",
    "    def forward(self, X):\n",
    "        out = self.sig(X)\n",
    "        \n",
    "        out = self.conv1(out)\n",
    "        out = self.pool1(out)\n",
    "        out = self.conv2(out)\n",
    "        out = self.pool2(out)\n",
    "        out = self.conv3(out)\n",
    "        out = self.conv4(out)\n",
    "        \n",
    "        # print(out.shape)\n",
    "        out = torch.reshape(out, (out.shape[0], 3*3*512))\n",
    "\n",
    "        out = self.fc1(out)\n",
    "        out = self.fc2(out)\n",
    "        out = self.fc3(out)\n",
    "        \n",
    "        return out"
   ]
  },
  {
   "cell_type": "code",
   "execution_count": 49,
   "id": "impaired-manitoba",
   "metadata": {},
   "outputs": [],
   "source": [
    "losses = []\n",
    "accuracy = []"
   ]
  },
  {
   "cell_type": "code",
   "execution_count": 50,
   "id": "permanent-nurse",
   "metadata": {},
   "outputs": [
    {
     "name": "stdout",
     "output_type": "stream",
     "text": [
      "-- init SimplestCNN --\n"
     ]
    }
   ],
   "source": [
    "model = SimplestCNN().to(device)\n",
    "loss_function = torch.nn.MSELoss().to(device)\n",
    "optimizer = torch.optim.Adam(model.parameters())\n",
    "\n",
    "batch_size = 10"
   ]
  },
  {
   "cell_type": "code",
   "execution_count": 51,
   "id": "attended-purse",
   "metadata": {},
   "outputs": [
    {
     "name": "stdout",
     "output_type": "stream",
     "text": [
      " 0 |     0 | 0.1085\n",
      " 0 |  1000 | 0.0244\n",
      " 0 |  2000 | 0.0137\n",
      " 0 |  3000 | 0.0253\n",
      " 1 |     0 | 0.0210\n",
      " 1 |  1000 | 0.0203\n",
      " 1 |  2000 | 0.0074\n",
      " 1 |  3000 | 0.0161\n",
      " 2 |     0 | 0.0167\n",
      " 2 |  1000 | 0.0199\n",
      " 2 |  2000 | 0.0067\n",
      " 2 |  3000 | 0.0153\n",
      " 3 |     0 | 0.0140\n",
      " 3 |  1000 | 0.0178\n",
      " 3 |  2000 | 0.0056\n",
      " 3 |  3000 | 0.0134\n",
      " 4 |     0 | 0.0122\n",
      " 4 |  1000 | 0.0171\n",
      " 4 |  2000 | 0.0053\n",
      " 4 |  3000 | 0.0131\n",
      " 5 |     0 | 0.0118\n",
      " 5 |  1000 | 0.0150\n",
      " 5 |  2000 | 0.0049\n",
      " 5 |  3000 | 0.0127\n",
      " 6 |     0 | 0.0105\n",
      " 6 |  1000 | 0.0155\n",
      " 6 |  2000 | 0.0049\n",
      " 6 |  3000 | 0.0123\n",
      " 7 |     0 | 0.0109\n",
      " 7 |  1000 | 0.0152\n",
      " 7 |  2000 | 0.0051\n",
      " 7 |  3000 | 0.0118\n",
      " 8 |     0 | 0.0130\n",
      " 8 |  1000 | 0.0133\n",
      " 8 |  2000 | 0.0052\n",
      " 8 |  3000 | 0.0125\n",
      " 9 |     0 | 0.0080\n",
      " 9 |  1000 | 0.0144\n",
      " 9 |  2000 | 0.0051\n",
      " 9 |  3000 | 0.0125\n"
     ]
    }
   ],
   "source": [
    "for epoch in range(10):\n",
    "    running_loss = 0\n",
    "    for i in range(int(y.shape[0]/batch_size)):\n",
    "        optimizer.zero_grad()\n",
    "        pred = model(X[batch_size*i:batch_size*i+batch_size])\n",
    "        loss = loss_function(pred, y[batch_size*i:batch_size*i+batch_size])\n",
    "\n",
    "        loss.backward()\n",
    "        optimizer.step()\n",
    "        \n",
    "        running_loss += loss.item()\n",
    "        if(i % 100 == 0):\n",
    "            losses.append((running_loss/9999))\n",
    "            accuracy.append(mylib.mnist_score(model,X[:100],y[:100],dataset_size=100))\n",
    "            running_loss = 0.0\n",
    "            \n",
    "        if(i % 1000 == 0):\n",
    "            print(f'{epoch:2d} | {i:5d} | {loss.item():.4f}')"
   ]
  },
  {
   "cell_type": "code",
   "execution_count": 52,
   "id": "raising-pledge",
   "metadata": {},
   "outputs": [
    {
     "name": "stdout",
     "output_type": "stream",
     "text": [
      "TRAIN:  99.21621621621621\n"
     ]
    }
   ],
   "source": [
    "print('TRAIN: ', mylib.mnist_score(model, X[:37000], y[:37000], dataset_size=37000))"
   ]
  },
  {
   "cell_type": "code",
   "execution_count": 53,
   "id": "printable-amateur",
   "metadata": {},
   "outputs": [
    {
     "name": "stdout",
     "output_type": "stream",
     "text": [
      "TEST:  98.36\n"
     ]
    }
   ],
   "source": [
    "print('TEST: ', mylib.mnist_score(model, X_test, y_test, dataset_size=5000))"
   ]
  },
  {
   "cell_type": "code",
   "execution_count": 54,
   "id": "forced-focus",
   "metadata": {},
   "outputs": [
    {
     "data": {
      "image/png": "[encoded data removed]",
      "text/plain": [
       "<Figure size 1440x1080 with 2 Axes>"
      ]
     },
     "metadata": {
      "needs_background": "light"
     },
     "output_type": "display_data"
    }
   ],
   "source": [
    "%matplotlib inline\n",
    "\n",
    "fig, (ax1, ax2) = plt.subplots(2, 1, figsize=(20,15))\n",
    "\n",
    "fig.suptitle('Model Statistics')\n",
    "\n",
    "ax1.plot(accuracy)\n",
    "ax1.set_ylabel('accuracy')\n",
    "\n",
    "ax2.plot(losses)\n",
    "ax2.set_ylabel('loss')\n",
    "\n",
    "plt.show()"
   ]
  },
  {
   "cell_type": "code",
   "execution_count": 55,
   "id": "institutional-citizen",
   "metadata": {},
   "outputs": [],
   "source": [
    "torch.save(model.state_dict(), 'simplestcnn.model')"
   ]
  },
  {
   "cell_type": "code",
   "execution_count": 56,
   "id": "creative-spiritual",
   "metadata": {},
   "outputs": [
    {
     "name": "stdout",
     "output_type": "stream",
     "text": [
      "-- init SimplestCNN --\n"
     ]
    },
    {
     "data": {
      "text/plain": [
       "SimplestCNN(\n",
       "  (sig): Sigmoid()\n",
       "  (conv1): Conv2d(1, 64, kernel_size=(4, 4), stride=(2, 2), padding=(1, 1))\n",
       "  (pool1): MaxPool2d(kernel_size=4, stride=2, padding=0, dilation=1, ceil_mode=False)\n",
       "  (conv2): Conv2d(64, 128, kernel_size=(3, 3), stride=(1, 1), padding=(1, 1))\n",
       "  (pool2): MaxPool2d(kernel_size=2, stride=2, padding=0, dilation=1, ceil_mode=False)\n",
       "  (conv3): Conv2d(128, 256, kernel_size=(3, 3), stride=(1, 1), padding=(1, 1))\n",
       "  (conv4): Conv2d(256, 512, kernel_size=(3, 3), stride=(1, 1), padding=(1, 1))\n",
       "  (fc1): Linear(in_features=4608, out_features=100, bias=True)\n",
       "  (fc2): Linear(in_features=100, out_features=100, bias=True)\n",
       "  (fc3): Linear(in_features=100, out_features=10, bias=True)\n",
       ")"
      ]
     },
     "execution_count": 56,
     "metadata": {},
     "output_type": "execute_result"
    }
   ],
   "source": [
    "model = SimplestCNN()\n",
    "model.load_state_dict(torch.load('simplestcnn.model'))\n",
    "model = model.to(device)\n",
    "model.eval()"
   ]
  },
  {
   "cell_type": "code",
   "execution_count": 57,
   "id": "serial-touch",
   "metadata": {},
   "outputs": [],
   "source": [
    "path_to_test = 'mnist/test.csv'\n",
    "path_to_sample = 'mnist/sample_submission.csv'\n",
    "mylib.make_mnist_kaggle_submission(model, path_to_test, path_to_sample, device, 'auto_submission.csv')"
   ]
  },
  {
   "cell_type": "code",
   "execution_count": null,
   "id": "formed-while",
   "metadata": {},
   "outputs": [],
   "source": []
  }
 ],
 "metadata": {
  "kernelspec": {
   "display_name": "Python 3",
   "language": "python",
   "name": "python3"
  },
  "language_info": {
   "codemirror_mode": {
    "name": "ipython",
    "version": 3
   },
   "file_extension": ".py",
   "mimetype": "text/x-python",
   "name": "python",
   "nbconvert_exporter": "python",
   "pygments_lexer": "ipython3",
   "version": "3.8.8"
  }
 },
 "nbformat": 4,
 "nbformat_minor": 5
}
